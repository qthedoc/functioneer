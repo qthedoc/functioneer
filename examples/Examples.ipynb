{
  "cells": [
    {
      "cell_type": "markdown",
      "metadata": {},
      "source": [
        "# Functioneer Examples\n",
        "\n",
        "This notebook provides a comprehensive set of examples for the `functioneer` library, demonstrating core and advanced features. For a quick introduction and key examples, see the [README.md](README.md). We use the Rosenbrock function due to its simplicity, many inputs, and its popular use as an optimization benchmark.\n",
        "\n",
        "Currently this notebook is the primary form of documentation. By the end you will have witnessed the computational power of this fully armed and fully operational library.\n",
        "\n",
        "## Table of Contents\n",
        "1. [Forks and Function Evaluation (The Basics)](#example-1)\n",
        "2. [Optimization](#example-2)\n",
        "3. [Multi-parameter Forks](#example-3)\n",
        "4. [Defining Parameters](#example-4)\n",
        "5. [Dictionary Output in Evaluate](#example-5)\n",
        "6. [Evaluatee Options](#example-6)\n",
        "7. [Conditionally Skip Analysis Steps](#example-7)\n",
        "8. [Optimizer Options](#example-8)\n",
        "9. [Custom Optimizer](#example-9)\n",
        "10. [Runtime and Datetime Fields](#example-10)\n",
        "11. [Invalid Define with Dictionary and Value](#example-11)"
      ]
    },
    {
      "cell_type": "code",
      "execution_count": 25,
      "metadata": {},
      "outputs": [],
      "source": [
        "# Setup: Import libraries and define example functions\n",
        "import functioneer as fn\n",
        "import time\n",
        "\n",
        "# Rosenbrock function (known minimum: value=0 @ x=1, y=1, a=1, b=100)\n",
        "def rosenbrock(x, y, a, b):\n",
        "    return (a - x)**2 + b * (y - x**2)**2\n"
      ]
    },
    {
      "cell_type": "markdown",
      "metadata": {},
      "source": [
        "### <span id='example-1'>Example 1: Forks and Function Evaluation (The Basics)</span>\n",
        "\n",
        "**Goal**: Test `rosenbrock` function with multiple values for parameters `x` and `y`.\n",
        "\n",
        "Note: forks for `x` and `y` create a 'grid' of values\\\n",
        "Note: Parameter IDs MUST match your function's args, function evals inside functioneer are fully keyword arg based."
      ]
    },
    {
      "cell_type": "code",
      "execution_count": 26,
      "metadata": {},
      "outputs": [
        {
          "name": "stdout",
          "output_type": "stream",
          "text": [
            "Example 1 Output:\n",
            "   a    b  x   y  rosenbrock\n",
            "0  1  100  0   1         101\n",
            "1  1  100  0  10       10001\n",
            "2  1  100  1   1           0\n",
            "3  1  100  1  10        8100\n",
            "4  1  100  2   1         901\n",
            "5  1  100  2  10        3601\n"
          ]
        }
      ],
      "source": [
        "analysis = fn.AnalysisModule() # Create new analysis\n",
        "analysis.add.define({'a': 1, 'b': 100}) # define a and b\n",
        "analysis.add.fork('x', (0, 1, 2)) # Fork analysis, create branches for x=0, x=1, x=2\n",
        "analysis.add.fork('y', (1, 10))\n",
        "analysis.add.evaluate(func=rosenbrock) #\n",
        "results = analysis.run()\n",
        "print('Example 1 Output:')\n",
        "print(results['df'][['a', 'b', 'x', 'y', 'rosenbrock']])"
      ]
    },
    {
      "cell_type": "markdown",
      "metadata": {},
      "source": [
        "### <span id='example-2'>Example 2: Optimization</span>\n",
        "\n",
        "**Goal**: Optimize `x` and `y` to find the minimum `rosenbrock` value for various `a` and `b` values.\n",
        "\n",
        "Note: values for `x` and `y` before optimization are used as initial guesses"
      ]
    },
    {
      "cell_type": "code",
      "execution_count": 27,
      "metadata": {},
      "outputs": [
        {
          "name": "stdout",
          "output_type": "stream",
          "text": [
            "\n",
            "Example 2 Output:\n",
            "   a    b         x         y    rosenbrock\n",
            "0  1    0  1.000000  0.000000  4.930381e-32\n",
            "1  1  100  0.999763  0.999523  5.772481e-08\n",
            "2  1  200  0.999939  0.999873  8.146869e-09\n",
            "3  2    0  2.000000  0.000000  0.000000e+00\n",
            "4  2  100  1.999731  3.998866  4.067518e-07\n",
            "5  2  200  1.999554  3.998225  2.136755e-07\n"
          ]
        }
      ],
      "source": [
        "analysis = fn.AnalysisModule({'x': 0, 'y': 0})\n",
        "analysis.add.fork('a', (1, 2))\n",
        "analysis.add.fork('b', (0, 100, 200))\n",
        "analysis.add.optimize(func=rosenbrock, opt_param_ids=('x', 'y'))\n",
        "results = analysis.run()\n",
        "print('\\nExample 2 Output:')\n",
        "print(results['df'][['a', 'b', 'x', 'y', 'rosenbrock']])"
      ]
    },
    {
      "cell_type": "markdown",
      "metadata": {},
      "source": [
        "### <span id='example-3'>Example 3: Multi-parameter Forks</span>\n",
        "\n",
        "**Goal**: Test specific combinations of `x` and `y`: `(x=0, y=0), (x=1, y=10), (x=2, y=20)`.\n",
        "\n",
        "Note: If defining fork with *value sets*, value sets must have matching length\\\n",
        "Note: Alternatively, you can take full manual control and define each branch as a *parameter configuration*."
      ]
    },
    {
      "cell_type": "code",
      "execution_count": null,
      "metadata": {},
      "outputs": [
        {
          "name": "stdout",
          "output_type": "stream",
          "text": [
            "\n",
            "Example 3 Output:\n",
            "   a    b  x   y  rosenbrock\n",
            "0  1  100  0   0           1\n",
            "1  1  100  1  10        8100\n",
            "2  1  100  2  20       25601\n"
          ]
        }
      ],
      "source": [
        "analysis = fn.AnalysisModule({'a': 1, 'b': 100})\n",
        "analysis.add.fork({'x': (0, 1, 2), 'y': (0, 10, 20)}) # Fork multiple parameters with value sets\n",
        "# analysis.add.fork(({'x': 0, 'y': 0}, {'x': 1, 'y': 10}, {'x': 2, 'y': 20})) # Fork with parameter configurations (alternate method)\n",
        "analysis.add.evaluate(func=rosenbrock)\n",
        "results = analysis.run()\n",
        "print('\\nExample 3 Output:')\n",
        "print(results['df'][['a', 'b', 'x', 'y', 'rosenbrock']])"
      ]
    },
    {
      "cell_type": "markdown",
      "metadata": {},
      "source": [
        "### <span id='example-4'>Example 4: Defining Parameters</span>\n",
        "\n",
        "**Goal**: Demonstrate various ways to define parameters.\n",
        "\n",
        "Note: a parameter is overwritten by any subsequent step setting that parameter"
      ]
    },
    {
      "cell_type": "code",
      "execution_count": 29,
      "metadata": {},
      "outputs": [
        {
          "name": "stdout",
          "output_type": "stream",
          "text": [
            "\n",
            "Example 4 Output:\n",
            "   a    b  x  y  rosenbrock\n",
            "0  1  100  0  1         101\n"
          ]
        }
      ],
      "source": [
        "analysis = fn.AnalysisModule({'a': 0, 'b': 0, 'x': 0}) # define initial parameter values in AnalysisModule declaration\n",
        "analysis.add.define('a', 1) # single parameter definition\n",
        "analysis.add.define({'b': 100, 'y': 1}) # multi parameter definition\n",
        "analysis.add.evaluate(func=rosenbrock)\n",
        "results = analysis.run()\n",
        "print('\\nExample 4 Output:')\n",
        "print(results['df'][['a', 'b', 'x', 'y', 'rosenbrock']])"
      ]
    },
    {
      "cell_type": "markdown",
      "metadata": {},
      "source": [
        "### <span id='example-5'>Example 5: Dictionary Output in Evaluate</span>\n",
        "\n",
        "Useful for functions that return multiple values\n",
        "\n",
        "**Goal**: Evaluate a function returning a dictionary and unpack results.\n",
        "\n",
        "Note: `unpack_result=True` stores dictionary keys as separate parameters"
      ]
    },
    {
      "cell_type": "code",
      "execution_count": 30,
      "metadata": {},
      "outputs": [
        {
          "name": "stdout",
          "output_type": "stream",
          "text": [
            "\n",
            "Example 5 Output:\n",
            "   a    b  x  y  rosen  sum\n",
            "0  1  100  1  1      0    2\n"
          ]
        }
      ],
      "source": [
        "def rosenbrock_dict(x, y, a, b):\n",
        "    return {'rosen': rosenbrock(x, y, a, b), 'sum': x + y}\n",
        "\n",
        "analysis = fn.AnalysisModule({'a': 1, 'b': 100, 'x': 1, 'y': 1})\n",
        "analysis.add.evaluate(func=rosenbrock_dict, unpack_result=True)\n",
        "results = analysis.run()\n",
        "print('\\nExample 5 Output:')\n",
        "print(results['df'][['a', 'b', 'x', 'y', 'rosen', 'sum']])"
      ]
    },
    {
      "cell_type": "markdown",
      "metadata": {},
      "source": [
        "### <span id='example-6'>Example 6: Evaluate Options</span>\n",
        "\n",
        "**Goal**: Demonstrate different combinations of `assign_to` and `unpack_result` in `evaluate`.\n",
        "\n",
        "Note: \n",
        "- omitting `assign_to` uses the function name as the parameter ID\n",
        "- `unpack_result=True` requires a dictionary output\n",
        "- `unpack_result=True` with `assign_to=None` will unpack ALL dict keys \n",
        "- `unpack_result=True` with `assign_to=list[str]` will filter dict keys"
      ]
    },
    {
      "cell_type": "code",
      "execution_count": 31,
      "metadata": {},
      "outputs": [
        {
          "name": "stdout",
          "output_type": "stream",
          "text": [
            "\n",
            "Example 6 Output:\n",
            "   a    b  x  y  rosenbrock  brock_purdy  rosen  prod\n",
            "0  1  100  0  1         101          101    101     0\n",
            "1  1  100  1  1           0            0      0     1\n"
          ]
        }
      ],
      "source": [
        "def rosenbrock_dict(x, y, a, b):\n",
        "    return {'rosen': rosenbrock(x, y, a, b), 'sum': x + y, 'prod': x * y}\n",
        "\n",
        "analysis = fn.AnalysisModule({'a': 1, 'b': 100})\n",
        "analysis.add.fork('x', (0, 1))\n",
        "analysis.add.define('y', 1)\n",
        "analysis.add.evaluate(func=rosenbrock)  # No assign_to\n",
        "analysis.add.evaluate(func=rosenbrock, assign_to='brock_purdy')  # With assign_to\n",
        "analysis.add.evaluate(func=rosenbrock_dict, assign_to=['rosen', 'prod'], unpack_result=True)  # Unpack and filter with assign_to\n",
        "results = analysis.run()\n",
        "print('\\nExample 6 Output:')\n",
        "print(results['df'][['a', 'b', 'x', 'y', 'rosenbrock', 'brock_purdy', 'rosen', 'prod']])"
      ]
    },
    {
      "cell_type": "markdown",
      "metadata": {},
      "source": [
        "### <span id='example-7'>Example 7: Conditionally Skip Analysis Steps</span>\n",
        "\n",
        "Any analysis step can be conditionally skipped based on parameter values at runtime.\n",
        "\n",
        "**Goal**: Skip an expensive function evaluation if `y` is below 0.5 after optimization.\n",
        "\n",
        "Note: condition functions must return a boolean"
      ]
    },
    {
      "cell_type": "code",
      "execution_count": 32,
      "metadata": {},
      "outputs": [
        {
          "name": "stdout",
          "output_type": "stream",
          "text": [
            "\n",
            "Example 7 Output:\n",
            "   a    b         x         y    rosenbrock  expensive_func   runtime\n",
            "0  1    0  1.000000  0.000000  4.930381e-32             NaN  0.002002\n",
            "1  1  100  0.999763  0.999523  5.772481e-08        1.999286  0.218684\n",
            "2  1  200  0.999939  0.999873  8.146869e-09        1.999811  0.207836\n",
            "3  2    0  2.000000  0.000000  0.000000e+00             NaN  0.001903\n",
            "4  2  100  1.999731  3.998866  4.067518e-07        5.998596  0.210156\n",
            "5  2  200  1.999554  3.998225  2.136755e-07        5.997779  0.213020\n"
          ]
        }
      ],
      "source": [
        "def expensive_func(x, y):\n",
        "    time.sleep(0.2)  # delay to simulate expensive func\n",
        "    return x + y\n",
        "\n",
        "analysis = fn.AnalysisModule({'x': 0, 'y': 0, 'a': 1, 'b': 100})\n",
        "analysis.add.fork('a', (1, 2))\n",
        "analysis.add.fork('b', (0, 100, 200))\n",
        "analysis.add.optimize(func=rosenbrock, opt_param_ids=('x', 'y'))\n",
        "analysis.add.evaluate(func=expensive_func, condition=lambda y: y > 0.5)\n",
        "results = analysis.run()\n",
        "print('\\nExample 7 Output:')\n",
        "print(results['df'][['a', 'b', 'x', 'y', 'rosenbrock', 'expensive_func', 'runtime']])"
      ]
    },
    {
      "cell_type": "markdown",
      "metadata": {},
      "source": [
        "### <span id='example-8'>Example 8: Optimizer Options</span>\n",
        "\n",
        "**Goal**: Maximize `rosenbrock_neg` with Nelder-Mead and custom bounds/tolerance.\n",
        "\n",
        "Note: `direction='max'` finds function maximum (default is `'min'`)"
      ]
    },
    {
      "cell_type": "code",
      "execution_count": 33,
      "metadata": {},
      "outputs": [
        {
          "name": "stdout",
          "output_type": "stream",
          "text": [
            "\n",
            "Example 8 Output:\n",
            "   a    b         x         y  rosen_neg\n",
            "0  1  100  1.001503  1.002813  -0.000006\n"
          ]
        }
      ],
      "source": [
        "# Negative Rosenbrock for maximization\n",
        "def rosenbrock_neg(x, y, a, b):\n",
        "    return -rosenbrock(x, y, a, b)\n",
        "\n",
        "analysis = fn.AnalysisModule({'a': 1, 'b': 100, 'x': 5, 'y': 4})\n",
        "analysis.add.optimize(\n",
        "    func=rosenbrock_neg,\n",
        "    opt_param_ids=('x', 'y'),\n",
        "    assign_to='rosen_neg', # set custom param name with assign_to\n",
        "    direction='max',\n",
        "    optimizer='Nelder-Mead',\n",
        "    bounds={'x': (-100, 100), 'y': (-50, 50)},\n",
        "    tol=1e-2\n",
        ")\n",
        "results = analysis.run()\n",
        "print('\\nExample 8 Output:')\n",
        "print(results['df'][['a', 'b', 'x', 'y', 'rosen_neg']])"
      ]
    },
    {
      "cell_type": "markdown",
      "metadata": {},
      "source": [
        "### <span id='example-9'>Example 9: Custom Optimizer</span>\n",
        "\n",
        "**Goal**: Use a custom optimizer for `rosenbrock`.\n",
        "\n",
        "Note: custom optimizer must return a dictionary matching the `scipy.optimze.OptimizeResult` format: (`x`, `fun`, `success` keys)"
      ]
    },
    {
      "cell_type": "code",
      "execution_count": 34,
      "metadata": {},
      "outputs": [
        {
          "name": "stdout",
          "output_type": "stream",
          "text": [
            "\n",
            "Example 9 Output:\n",
            "   a    b         x         y    rosenbrock\n",
            "0  1  100  0.999996  0.999991  2.003596e-11\n"
          ]
        }
      ],
      "source": [
        "from scipy.optimize import minimize, OptimizeResult\n",
        "def custom_optimizer(func: callable, x0: list, **kwargs) -> OptimizeResult:\n",
        "    return minimize(func, x0, method='BFGS', options={'gtol': 1e-6})\n",
        "\n",
        "analysis = fn.AnalysisModule({'a': 1, 'b': 100, 'x': 5, 'y': 4})\n",
        "analysis.add.optimize(func=rosenbrock, opt_param_ids=('x', 'y'), optimizer=custom_optimizer)\n",
        "results = analysis.run()\n",
        "print('\\nExample 9 Output:')\n",
        "print(results['df'][['a', 'b', 'x', 'y', 'rosenbrock']])"
      ]
    },
    {
      "cell_type": "markdown",
      "metadata": {},
      "source": [
        "### <span id='example-10'>Example 10: Runtime and Datetime Fields</span>\n",
        "\n",
        "Functioneer automatically adds fields: `runtime` tracks cumulative step execution time; `datetime` marks leaf completion\n",
        "\n",
        "**Goal**: Show `runtime` and `datetime` fields in results.\n",
        "\n",
        "Note: The `runtime` and `datetime` fields are reserved parameter ids"
      ]
    },
    {
      "cell_type": "code",
      "execution_count": 35,
      "metadata": {},
      "outputs": [
        {
          "name": "stdout",
          "output_type": "stream",
          "text": [
            "\n",
            "Example 10 Output:\n",
            "   a    b  x  result   runtime                   datetime\n",
            "0  1  100  0       0  0.101053 2025-06-30 00:41:14.027957\n",
            "1  1  100  1       1  0.100841 2025-06-30 00:41:14.128798\n"
          ]
        }
      ],
      "source": [
        "analysis = fn.AnalysisModule({'a': 1, 'b': 100})\n",
        "analysis.add.fork('x', (0, 1))\n",
        "analysis.add.evaluate(func=lambda x, a, b: time.sleep(0.1) or x, assign_to='result')\n",
        "results = analysis.run()\n",
        "print('\\nExample 10 Output:')\n",
        "print(results['df'][['a', 'b', 'x', 'result', 'runtime', 'datetime']])"
      ]
    },
    {
      "cell_type": "markdown",
      "metadata": {},
      "source": [
        "### <span id='example-11'>Example 11: Invalid Define with Dictionary and Value</span>\n",
        "\n",
        "**Goal**: Showcase error handling for invalid `define` input.\n",
        "\n",
        "Note: providing `value` with a dictionary input raises a `ValueError`"
      ]
    },
    {
      "cell_type": "code",
      "execution_count": 36,
      "metadata": {},
      "outputs": [
        {
          "name": "stdout",
          "output_type": "stream",
          "text": [
            "Example 11 Output: Caught expected error: When defining multiple parameters with a dictionary, the 'value' argument is ignored. Use either define(param_id: str, value: Any) or define(params: Dict[str, Any]).\n"
          ]
        }
      ],
      "source": [
        "analysis = fn.AnalysisModule({'a': 1})\n",
        "try:\n",
        "    analysis.add.define({'a': 1, 'b': 100}, value=2)\n",
        "except ValueError as e:\n",
        "    print(f'Example 11 Output: Caught expected error: {str(e)}')"
      ]
    }
  ],
  "metadata": {
    "kernelspec": {
      "display_name": "base",
      "language": "python",
      "name": "python3"
    },
    "language_info": {
      "codemirror_mode": {
        "name": "ipython",
        "version": 3
      },
      "file_extension": ".py",
      "mimetype": "text/x-python",
      "name": "python",
      "nbconvert_exporter": "python",
      "pygments_lexer": "ipython3",
      "version": "3.11.5"
    }
  },
  "nbformat": 4,
  "nbformat_minor": 2
}
