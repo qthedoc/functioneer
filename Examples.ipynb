{
 "cells": [
  {
   "cell_type": "markdown",
   "metadata": {},
   "source": [
    "# Functioneer Test Cases\n",
    "\n",
    "This notebook tests the core functionality of the `functioneer` library, ensuring all existing and new features work as expected. We use the Rosenbrock function as our test case due to its simplicity, multiple inputs, and historical significance.\n",
    "\n",
    "## Test Cases\n",
    "1. Basic Parameter Definition and Function Execution\n",
    "2. Single Parameter Forks\n",
    "3. Optimization\n",
    "4. Multi-parameter Forks\n",
    "5. Conditional Analysis Steps\n",
    "6. Dictionary Output in Execute (for when multiple return values are needed)\n",
    "7. Optimizer Options\n",
    "8. Custom Optimzer"
   ]
  },
  {
   "cell_type": "code",
   "execution_count": 1,
   "metadata": {},
   "outputs": [],
   "source": [
    "# Setup: Import libraries and define the Rosenbrock function\n",
    "import functioneer as fn\n",
    "import pandas as pd\n",
    "\n",
    "# Rosenbrock function (known minimum of 0 at: x=1, y=1, a=1, b=100)\n",
    "def rosenbrock(x, y, a, b):\n",
    "    return (a - x)**2 + b * (y - x**2)**2"
   ]
  },
  {
   "cell_type": "code",
   "execution_count": 2,
   "metadata": {},
   "outputs": [
    {
     "name": "stdout",
     "output_type": "stream",
     "text": [
      "Test Case 1 Output:\n",
      "   runtime  a    b  x  y  rosenbrock                   datetime\n",
      "0      0.0  1  100  1  1           0 2025-06-24 03:50:07.636611\n"
     ]
    }
   ],
   "source": [
    "# Test Case 1: Basic Parameter Definition and Function Execution\n",
    "anal = fn.AnalysisModule()  # its not ānal is anál!\n",
    "anal.add.define('a', 1)\n",
    "anal.add.define('b', 100)\n",
    "anal.add.define('x', 1)\n",
    "anal.add.define('y', 1)\n",
    "anal.add.execute(func=rosenbrock)\n",
    "results = anal.run()\n",
    "print('Test Case 1 Output:')\n",
    "print(results['df'])"
   ]
  },
  {
   "cell_type": "code",
   "execution_count": 3,
   "metadata": {},
   "outputs": [
    {
     "name": "stdout",
     "output_type": "stream",
     "text": [
      "\n",
      "Test Case 2 Output:\n",
      "   runtime  a    b  x   y  brock_purdy\n",
      "0      0.0  1  100  0   1          101\n",
      "1      0.0  1  100  0  10        10001\n",
      "2      0.0  1  100  1   1            0\n",
      "3      0.0  1  100  1  10         8100\n",
      "4      0.0  1  100  2   1          901\n",
      "5      0.0  1  100  2  10         3601\n"
     ]
    }
   ],
   "source": [
    "# Test Case 2: Single Parameter Forks\n",
    "init_params = dict(a=1, b=100, x=1, y=1)\n",
    "anal = fn.AnalysisModule(init_params)\n",
    "anal.add.fork('x', value_set=(0, 1, 2))\n",
    "anal.add.fork('y', value_set=(1, 10))\n",
    "anal.add.execute(func=rosenbrock, assign_to='brock_purdy')\n",
    "results = anal.run()\n",
    "print('\\nTest Case 2 Output:')\n",
    "print(results['df'].drop(columns='datetime'))"
   ]
  },
  {
   "cell_type": "code",
   "execution_count": 4,
   "metadata": {},
   "outputs": [
    {
     "name": "stdout",
     "output_type": "stream",
     "text": [
      "\n",
      "Test Case 3 Output:\n",
      "    runtime         x         y  a    b    rosenbrock\n",
      "0  0.001518  1.000000  0.000000  1    0  4.930381e-32\n",
      "1  0.001006  0.999763  0.999523  1  100  5.772481e-08\n",
      "2  0.015998  0.999939  0.999873  1  200  8.146869e-09\n",
      "3  0.000000  2.000000  0.000000  2    0  0.000000e+00\n",
      "4  0.003642  1.999731  3.998866  2  100  4.067518e-07\n",
      "5  0.018693  1.999554  3.998225  2  200  2.136755e-07\n"
     ]
    }
   ],
   "source": [
    "# Test Case 3: Optimization\n",
    "anal = fn.AnalysisModule(dict(x=0, y=0))\n",
    "anal.add.fork('a', value_set=(1, 2))\n",
    "anal.add.fork('b', value_set=(0, 100, 200))\n",
    "anal.add.optimize(func=rosenbrock, opt_param_ids=('x', 'y'))\n",
    "results = anal.run()\n",
    "print('\\nTest Case 3 Output:')\n",
    "print(results['df'].drop(columns='datetime'))"
   ]
  },
  {
   "cell_type": "code",
   "execution_count": 5,
   "metadata": {},
   "outputs": [
    {
     "name": "stdout",
     "output_type": "stream",
     "text": [
      "\n",
      "Test Case 4 Output:\n",
      "   runtime  a    b  x   y  rosenbrock\n",
      "0      0.0  1  100  0   0           1\n",
      "1      0.0  1  100  1  10        8100\n",
      "2      0.0  1  100  2  20       25601\n"
     ]
    }
   ],
   "source": [
    "# Test Case 4: Multi-parameter Forks\n",
    "anal = fn.AnalysisModule(dict(a=1, b=100))\n",
    "anal.add.fork.multi(('x', 'y'), value_sets=((0, 1, 2), (0, 10, 20)))\n",
    "anal.add.execute(func=rosenbrock)\n",
    "results = anal.run()\n",
    "print('\\nTest Case 4 Output:')\n",
    "print(results['df'].drop(columns='datetime'))"
   ]
  },
  {
   "cell_type": "code",
   "execution_count": 6,
   "metadata": {},
   "outputs": [
    {
     "name": "stdout",
     "output_type": "stream",
     "text": [
      "\n",
      "Test Case 5 Output:\n",
      "    runtime         x         y  a    b    rosenbrock  expensive_param\n",
      "0  0.003519  1.000000  0.000000  1    0  4.930381e-32              NaN\n",
      "1  0.013538  0.999763  0.999523  1  100  5.772481e-08         1.999286\n",
      "2  0.009467  0.999939  0.999873  1  200  8.146869e-09         1.999811\n",
      "3  0.002006  2.000000  0.000000  2    0  0.000000e+00              NaN\n",
      "4  0.014444  1.999731  3.998866  2  100  4.067518e-07         5.998596\n",
      "5  0.013804  1.999554  3.998225  2  200  2.136755e-07         5.997779\n"
     ]
    }
   ],
   "source": [
    "# Test Case 5: Conditional Analysis Steps\n",
    "anal = fn.AnalysisModule(dict(x=0, y=0))\n",
    "anal.add.fork('a', value_set=(1, 2))\n",
    "anal.add.fork('b', value_set=(0, 100, 200))\n",
    "anal.add.optimize(func=rosenbrock, opt_param_ids=('x', 'y'))\n",
    "expensive_func = lambda x, y: x + y\n",
    "anal.add.execute(func=expensive_func, assign_to='expensive_param', condition=lambda y: y > 0.5)\n",
    "results = anal.run()\n",
    "print('\\nTest Case 5 Output:')\n",
    "print(results['df'].drop(columns='datetime'))"
   ]
  },
  {
   "cell_type": "code",
   "execution_count": 7,
   "metadata": {},
   "outputs": [
    {
     "name": "stdout",
     "output_type": "stream",
     "text": [
      "\n",
      "Test Case 6 Output:\n",
      "   runtime  a    b  x  y  rosen  sum\n",
      "0      0.0  1  100  1  1      0    2\n"
     ]
    }
   ],
   "source": [
    "# Test Case 6: Dictionary Output in Execute\n",
    "# useful for functions that need to return multipe values\n",
    "def rosenbrock_dict(x, y, a, b):\n",
    "    val = (a - x)**2 + b * (y - x**2)**2\n",
    "    return {'rosen': val, 'sum': x + y}\n",
    "\n",
    "anal = fn.AnalysisModule(dict(a=1, b=100, x=1, y=1))\n",
    "anal.add.execute(func=rosenbrock_dict, assign_to=['rosen', 'sum'], unpack_result=True)\n",
    "results = anal.run()\n",
    "print('\\nTest Case 6 Output:')\n",
    "print(results['df'].drop(columns='datetime'))"
   ]
  },
  {
   "cell_type": "code",
   "execution_count": 29,
   "metadata": {},
   "outputs": [
    {
     "name": "stdout",
     "output_type": "stream",
     "text": [
      "\n",
      "Test Case 7 Output:\n",
      "    runtime  a    b         x         y  rosenbrock_neg\n",
      "0  0.018822  1  100  1.001503  1.002813       -0.000006\n"
     ]
    }
   ],
   "source": [
    "# Test Case 7: Optimizer Options\n",
    "def rosenbrock_neg(x, y, a, b):\n",
    "    val = (a - x)**2 + b * (y - x**2)**2\n",
    "    return -val\n",
    "\n",
    "anal = fn.AnalysisModule(dict(a=1, b=100, x=5, y=4))\n",
    "anal.add.optimize(\n",
    "    func=rosenbrock_neg, \n",
    "    opt_param_ids=('x', 'y'), \n",
    "    direction='max', \n",
    "    optimizer='Nelder-Mead',\n",
    "    bounds=dict(x=(-100,100), y=(-50, 50)),\n",
    "    tol=1e-2\n",
    ")\n",
    "\n",
    "results = anal.run()\n",
    "print('\\nTest Case 7 Output:')\n",
    "print(results['df'].drop(columns='datetime'))"
   ]
  },
  {
   "cell_type": "code",
   "execution_count": null,
   "metadata": {},
   "outputs": [
    {
     "name": "stdout",
     "output_type": "stream",
     "text": [
      "\n",
      "Test Case 7 Output:\n",
      "    runtime  a    b         x         y    rosenbrock\n",
      "0  0.032004  1  100  0.999996  0.999991  2.003596e-11\n"
     ]
    }
   ],
   "source": [
    "# Test Case 8: Custom Optimizer\n",
    "anal = fn.AnalysisModule(dict(a=1, b=100, x=5, y=4))\n",
    "\n",
    "def custom_optimizer(func, x0, **kwargs):\n",
    "    from scipy.optimize import minimize\n",
    "    return minimize(func, x0, method='BFGS', options={'gtol': 1e-6})\n",
    "anal.add.optimize(func=rosenbrock, opt_param_ids=['x', 'y'], optimizer=custom_optimizer)\n",
    "\n",
    "results = anal.run()\n",
    "print('\\nTest Case 8 Output:')\n",
    "print(results['df'].drop(columns='datetime'))"
   ]
  }
 ],
 "metadata": {
  "kernelspec": {
   "display_name": "base",
   "language": "python",
   "name": "python3"
  },
  "language_info": {
   "codemirror_mode": {
    "name": "ipython",
    "version": 3
   },
   "file_extension": ".py",
   "mimetype": "text/x-python",
   "name": "python",
   "nbconvert_exporter": "python",
   "pygments_lexer": "ipython3",
   "version": "3.11.5"
  }
 },
 "nbformat": 4,
 "nbformat_minor": 2
}
