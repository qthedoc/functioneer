{
 "cells": [
  {
   "cell_type": "markdown",
   "metadata": {},
   "source": [
    "## BIG QUESTIONS\n",
    "best syntax?\n",
    "how do deal with adding new parameters, should they be part of the sequence? would you ever add a parameter mid sequency?\n",
    "there is parameter object and parameter analysisStep?"
   ]
  },
  {
   "cell_type": "code",
   "execution_count": 1,
   "metadata": {},
   "outputs": [],
   "source": [
    "import functioneer as fn"
   ]
  },
  {
   "cell_type": "code",
   "execution_count": 11,
   "metadata": {},
   "outputs": [],
   "source": [
    "### Choosing a Function to Analyze\n",
    "# Functioneer is designed to analyze ANY function(s) with ANY number of inputs and outputs. For the following examples, the [Rosenbrock Function](https://en.wikipedia.org/wiki/Rosenbrock_function) is used for its relative simplicity, 4 inputs (plenty to play with) and its historical significance as an optimization benchmark.\n",
    "\n",
    "# Rosenbrock function (known minimum of 0 at: x=1, y=1, a=1, b=100)\n",
    "def rosenbrock(x, y, a, b):\n",
    "    return (a-x)**2 + b*(y-x**2)**2"
   ]
  },
  {
   "cell_type": "code",
   "execution_count": 12,
   "metadata": {},
   "outputs": [
    {
     "name": "stdout",
     "output_type": "stream",
     "text": [
      "done with analysis!\n",
      "    runtime  a    b  x  y  rosen                   datetime\n",
      "0  0.001004  1  100  1  1      0 2025-01-09 13:51:09.003823\n"
     ]
    }
   ],
   "source": [
    "### Example 1: The Basics (Defining Parameters and Executing a Function)\n",
    "# Set up an *analysis sequence* by defining four parameters (the inputs needed for the Rosenbrock function), then executing the function (with parameter ids matched to kwargs)\n",
    "\n",
    "# Create new analysis\n",
    "anal = fn.AnalysisModule() # its not ānal is anál!\n",
    "\n",
    "# Define analysis sequence\n",
    "anal.add(fn.Define('a', 1)) # Define parameter 'a'\n",
    "anal.add(fn.Define('b', 100)) # Define parameter 'b'\n",
    "anal.add(fn.Define('x', 1)) # Define parameter 'x'\n",
    "anal.add(fn.Define('y', 1)) # Define parameter 'y'\n",
    "\n",
    "anal.add(fn.Execute(func=rosenbrock, output_param_ids='rosen')) # Execute function with parameter ids matched to kwargs\n",
    "\n",
    "# Run the analysis sequence\n",
    "results = anal.run()\n",
    "\n",
    "print(results['df'])"
   ]
  },
  {
   "cell_type": "code",
   "execution_count": 13,
   "metadata": {},
   "outputs": [
    {
     "name": "stdout",
     "output_type": "stream",
     "text": [
      "done with analysis!\n",
      "   runtime  a    b  x   y  rosen\n",
      "0      0.0  1  100  0   1    101\n",
      "1      0.0  1  100  0  10  10001\n",
      "2      0.0  1  100  1   1      0\n",
      "3      0.0  1  100  1  10   8100\n",
      "4      0.0  1  100  2   1    901\n",
      "5      0.0  1  100  2  10   3601\n"
     ]
    }
   ],
   "source": [
    "### Example 2: Single Parameter Forks (Testing Variations of a Parameter)\n",
    "# If you want to test a set of values for a parameter you can create a *fork* in the *analysis sequence*. This splits the analysis into multiple *branches*, each exploring different values for a the given parameter.\n",
    "\n",
    "# Say we want to evaluate and plot the Rosenbrock surface over the x-y domain. Let's evaluate Rosenbrock a grid where x=(0, 1, 2) and y=(1, 10) which should result in 6 final *branches* / *leaves*...\n",
    "\n",
    "# Create new analysis\n",
    "anal = fn.AnalysisModule()\n",
    "\n",
    "# Define analysis sequence\n",
    "anal.add(fn.Define('a', 1)) # Define parameter 'a'\n",
    "anal.add(fn.Define('b', 100)) # Define parameter 'b'\n",
    "anal.add(fn.Fork('x', value_sets=(0, 1, 2))) # Fork analysis, create a branch for each value of 'x': 0, 1, 2\n",
    "anal.add(fn.Fork('y', value_sets=(1, 10))) # Fork analysis, create a branch for each value of 'y': 1, 10\n",
    "\n",
    "anal.add(fn.Execute(func=rosenbrock, output_param_ids='rosen')) # Execute function (for each branch) with parameters matched to kwargs\n",
    "\n",
    "# Run the analysis sequence\n",
    "results = anal.run()\n",
    "\n",
    "print(results['df'].drop(columns='datetime'))"
   ]
  },
  {
   "cell_type": "code",
   "execution_count": 14,
   "metadata": {},
   "outputs": [
    {
     "name": "stdout",
     "output_type": "stream",
     "text": [
      "done with analysis!\n",
      "    runtime  a    b         x         y         rosen\n",
      "0  0.002002  1    0  1.000000  0.000000  4.930381e-32\n",
      "1  0.012991  1  100  0.999763  0.999523  5.772481e-08\n",
      "2  0.008002  1  200  0.999939  0.999873  8.146869e-09\n",
      "3  0.000000  2    0  2.000000  0.000000  0.000000e+00\n",
      "4  0.008009  2  100  1.999731  3.998866  4.067518e-07\n",
      "5  0.010581  2  200  1.999554  3.998225  2.136755e-07\n"
     ]
    }
   ],
   "source": [
    "### Example 3: Optimization\n",
    "# Lets say you want to find the local minimum of the Rosenbrock (optimize `x` and `y`) for several different flavors Rosenbrock functions (each with different `a` nnd `b` parameters). You would then fork the analysis at parameters `a` and `b` then after the forks perform the optimization on each branch.\n",
    "\n",
    "# Create new analysis\n",
    "anal = fn.AnalysisModule()\n",
    "\n",
    "# Define analysis sequence\n",
    "anal.add(fn.Fork('a', value_sets=(1, 2))) # Fork analysis, create a branch for each value of 'a': 0, 1, 2\n",
    "anal.add(fn.Fork('b', value_sets=(0, 100, 200))) # Fork analysis, create a branch for each value of 'b': 0, 100, 200\n",
    "anal.add(fn.Define('x', 0))\n",
    "anal.add(fn.Define('y', 0))\n",
    "\n",
    "anal.add(fn.Optimize(func=rosenbrock, obj_param_id='rosen', opt_param_ids=('x', 'y')))\n",
    "\n",
    "# Run the analysis sequence\n",
    "results = anal.run()\n",
    "print(results['df'].drop(columns='datetime'))"
   ]
  },
  {
   "cell_type": "code",
   "execution_count": 16,
   "metadata": {},
   "outputs": [
    {
     "name": "stdout",
     "output_type": "stream",
     "text": [
      "done with analysis!\n",
      "   runtime  a    b  x   y  rosen\n",
      "0      0.0  1  100  0   0      1\n",
      "1      0.0  1  100  1  10   8100\n",
      "2      0.0  1  100  2  20  25601\n"
     ]
    }
   ],
   "source": [
    "### Example 4: Multi-parameter Forks\n",
    "# If you want to test specific combinations of parameters (instead of creating a grid) use a *multi-parameter fork*. The following will result in 3 branches: (a=0, b=0), (a=1, b=100), (a=2, b=200)\n",
    "\n",
    "\n",
    "\n",
    "# Create new analysis\n",
    "anal = fn.AnalysisModule()\n",
    "\n",
    "# Define analysis sequence\n",
    "anal.add(fn.Define('a', 1)) # Define parameter 'a'\n",
    "anal.add(fn.Define('b', 100)) # Define parameter 'b'\n",
    "anal.add(fn.Fork(('x', 'y'), value_sets=((0, 1, 2), (0, 10, 20)))) # Fork analysis, create a branch for each value of 'y': 1, 10\n",
    "\n",
    "anal.add(fn.Execute(func=rosenbrock, output_param_ids='rosen')) # Execute function (for each branch) with parameters matched to kwargs\n",
    "\n",
    "# Run the analysis sequence\n",
    "results = anal.run()\n",
    "\n",
    "print(results['df'].drop(columns='datetime'))"
   ]
  },
  {
   "cell_type": "code",
   "execution_count": 18,
   "metadata": {},
   "outputs": [
    {
     "name": "stdout",
     "output_type": "stream",
     "text": [
      "done with analysis!\n",
      "    runtime  a    b         x         y         rosen  expensive_param\n",
      "0  0.002001  1    0  1.000000  0.000000  4.930381e-32              NaN\n",
      "1  0.016232  1  100  0.999763  0.999523  5.772481e-08         1.999286\n",
      "2  0.009002  1  200  0.999939  0.999873  8.146869e-09         1.999811\n",
      "3  0.001003  2    0  2.000000  0.000000  0.000000e+00              NaN\n",
      "4  0.010998  2  100  1.999731  3.998866  4.067518e-07         5.998596\n",
      "5  0.011999  2  200  1.999554  3.998225  2.136755e-07         5.997779\n"
     ]
    }
   ],
   "source": [
    "### Example 5: Analysis Steps can be Conditional\n",
    "# Any *analysis step* can be given a conditional function that must return true at runtime or else the *analysis step* will be skipped. One use case for this is when you want to skip an expensive *analysis step* if the parameters aren't looking good.\n",
    "# As an arbitrary example, assume that we only care about cases where the optimized value of `y` is above 0.5. Also assume `expensive_func` is costly to run and we want to avoid running it when `y<0.5`. \n",
    "\n",
    "# Create new analysis\n",
    "anal = fn.AnalysisModule()\n",
    "\n",
    "# Define analysis sequence\n",
    "anal.add(fn.Fork('a', value_sets=(1, 2)))\n",
    "anal.add(fn.Fork('b', value_sets=(0, 100, 200)))\n",
    "anal.add(fn.Define('x', 0))\n",
    "anal.add(fn.Define('y', 0))\n",
    "anal.add(fn.Optimize(func=rosenbrock, obj_param_id='rosen', opt_param_ids=('x', 'y')))\n",
    "\n",
    "# Only evaluate 'expensive_func' if the optimized 'x' is above 0.5\n",
    "expensive_func = lambda x, y: x+y\n",
    "anal.add(fn.Execute(func=expensive_func, output_param_ids='expensive_param', condition=lambda y: y>0.5))\n",
    "\n",
    "results = anal.run()\n",
    "print(results['df'].drop(columns='datetime'))"
   ]
  },
  {
   "cell_type": "code",
   "execution_count": 5,
   "metadata": {},
   "outputs": [
    {
     "name": "stdout",
     "output_type": "stream",
     "text": [
      "done with analysis!\n"
     ]
    },
    {
     "data": {
      "text/html": [
       "<div>\n",
       "<style scoped>\n",
       "    .dataframe tbody tr th:only-of-type {\n",
       "        vertical-align: middle;\n",
       "    }\n",
       "\n",
       "    .dataframe tbody tr th {\n",
       "        vertical-align: top;\n",
       "    }\n",
       "\n",
       "    .dataframe thead th {\n",
       "        text-align: right;\n",
       "    }\n",
       "</style>\n",
       "<table border=\"1\" class=\"dataframe\">\n",
       "  <thead>\n",
       "    <tr style=\"text-align: right;\">\n",
       "      <th></th>\n",
       "      <th>runtime</th>\n",
       "      <th>a</th>\n",
       "      <th>b</th>\n",
       "      <th>x</th>\n",
       "      <th>y</th>\n",
       "      <th>rosen</th>\n",
       "      <th>rosen_tuple</th>\n",
       "      <th>val2_tuple</th>\n",
       "      <th>rosen_dict</th>\n",
       "      <th>val2_dict</th>\n",
       "      <th>datetime</th>\n",
       "    </tr>\n",
       "  </thead>\n",
       "  <tbody>\n",
       "    <tr>\n",
       "      <th>0</th>\n",
       "      <td>0.001002</td>\n",
       "      <td>1</td>\n",
       "      <td>100</td>\n",
       "      <td>1</td>\n",
       "      <td>1</td>\n",
       "      <td>0</td>\n",
       "      <td>0</td>\n",
       "      <td>69</td>\n",
       "      <td>0</td>\n",
       "      <td>69</td>\n",
       "      <td>2025-01-09 13:47:02.730670</td>\n",
       "    </tr>\n",
       "  </tbody>\n",
       "</table>\n",
       "</div>"
      ],
      "text/plain": [
       "    runtime  a    b  x  y  rosen  rosen_tuple  val2_tuple  rosen_dict  \\\n",
       "0  0.001002  1  100  1  1      0            0          69           0   \n",
       "\n",
       "   val2_dict                   datetime  \n",
       "0         69 2025-01-09 13:47:02.730670  "
      ]
     },
     "execution_count": 5,
     "metadata": {},
     "output_type": "execute_result"
    }
   ],
   "source": [
    "# Different Output Modes Test\n",
    "\n",
    "# test rosenbrock with various output formats\n",
    "def rosenbrock_tuple(x, y, a, b):\n",
    "    val = rosenbrock(x, y, a, b)\n",
    "    val2 = 69\n",
    "    return (val, val2)\n",
    "\n",
    "def rosenbrock_dict(x, y, a, b):\n",
    "    val = rosenbrock(x, y, a, b)\n",
    "    val2 = 69\n",
    "    return {'rosen_dict': val, 'val2_dict': val2}\n",
    "\n",
    "# Create new analysis\n",
    "anal = fn.AnalysisModule()\n",
    "\n",
    "anal.add(fn.Define('a', 1))\n",
    "anal.add(fn.Define('b', 100))\n",
    "anal.add(fn.Define('x', 1))\n",
    "anal.add(fn.Define('y', 1))\n",
    "\n",
    "anal.add(fn.Execute(func=rosenbrock, output_param_ids='rosen')) # Direct output mode\n",
    "anal.add(fn.Execute(func=rosenbrock_tuple, output_param_ids=('rosen_tuple', 'val2_tuple'))) # Positional output mode\n",
    "anal.add(fn.Execute(func=rosenbrock_dict)) # Keyword output mode\n",
    "\n",
    "results = anal.run()\n",
    "results['df']\n"
   ]
  },
  {
   "cell_type": "code",
   "execution_count": 6,
   "metadata": {},
   "outputs": [
    {
     "name": "stdout",
     "output_type": "stream",
     "text": [
      "done with analysis!\n"
     ]
    },
    {
     "data": {
      "text/html": [
       "<div>\n",
       "<style scoped>\n",
       "    .dataframe tbody tr th:only-of-type {\n",
       "        vertical-align: middle;\n",
       "    }\n",
       "\n",
       "    .dataframe tbody tr th {\n",
       "        vertical-align: top;\n",
       "    }\n",
       "\n",
       "    .dataframe thead th {\n",
       "        text-align: right;\n",
       "    }\n",
       "</style>\n",
       "<table border=\"1\" class=\"dataframe\">\n",
       "  <thead>\n",
       "    <tr style=\"text-align: right;\">\n",
       "      <th></th>\n",
       "      <th>runtime</th>\n",
       "      <th>a</th>\n",
       "      <th>b</th>\n",
       "      <th>x</th>\n",
       "      <th>datetime</th>\n",
       "    </tr>\n",
       "  </thead>\n",
       "  <tbody>\n",
       "    <tr>\n",
       "      <th>0</th>\n",
       "      <td>0.0</td>\n",
       "      <td>1</td>\n",
       "      <td>100</td>\n",
       "      <td>(0, 1, 2)</td>\n",
       "      <td>2025-01-09 13:47:02.757668</td>\n",
       "    </tr>\n",
       "    <tr>\n",
       "      <th>1</th>\n",
       "      <td>0.0</td>\n",
       "      <td>1</td>\n",
       "      <td>100</td>\n",
       "      <td>(0, 1, 2)</td>\n",
       "      <td>2025-01-09 13:47:02.758668</td>\n",
       "    </tr>\n",
       "  </tbody>\n",
       "</table>\n",
       "</div>"
      ],
      "text/plain": [
       "   runtime  a    b          x                   datetime\n",
       "0      0.0  1  100  (0, 1, 2) 2025-01-09 13:47:02.757668\n",
       "1      0.0  1  100  (0, 1, 2) 2025-01-09 13:47:02.758668"
      ]
     },
     "execution_count": 6,
     "metadata": {},
     "output_type": "execute_result"
    }
   ],
   "source": [
    "# Multi Parameter Forks\n",
    "# Create new analysis\n",
    "anal = fn.AnalysisModule()\n",
    "# Define analysis sequence\n",
    "anal.add(fn.Define('a', 1)) # Deine parameter\n",
    "anal.add(fn.Define('b', 100))\n",
    "# anal.add(fn.Fork(('x', 'y'), value_sets=((0, 1, 2), (0, 1, 2)))) # Fork with new parameter\n",
    "anal.add(fn.Fork('x', value_sets=((0, 1, 2), (0, 1, 2)))) # Fork with new parameter\n",
    "\n",
    "results = anal.run()\n",
    "results['df']\n"
   ]
  },
  {
   "cell_type": "code",
   "execution_count": 7,
   "metadata": {},
   "outputs": [
    {
     "name": "stdout",
     "output_type": "stream",
     "text": [
      "done with analysis!\n"
     ]
    },
    {
     "ename": "TypeError",
     "evalue": "unsupported format string passed to DataFrame.__format__",
     "output_type": "error",
     "traceback": [
      "\u001b[1;31m---------------------------------------------------------------------------\u001b[0m",
      "\u001b[1;31mTypeError\u001b[0m                                 Traceback (most recent call last)",
      "Cell \u001b[1;32mIn[7], line 17\u001b[0m\n\u001b[0;32m     13\u001b[0m anal\u001b[38;5;241m.\u001b[39madd(fn\u001b[38;5;241m.\u001b[39mOptimize(func\u001b[38;5;241m=\u001b[39mrosenbrock, obj_param_id\u001b[38;5;241m=\u001b[39m\u001b[38;5;124m'\u001b[39m\u001b[38;5;124mrosen\u001b[39m\u001b[38;5;124m'\u001b[39m, opt_param_ids\u001b[38;5;241m=\u001b[39m(\u001b[38;5;124m'\u001b[39m\u001b[38;5;124mx\u001b[39m\u001b[38;5;124m'\u001b[39m, \u001b[38;5;124m'\u001b[39m\u001b[38;5;124my\u001b[39m\u001b[38;5;124m'\u001b[39m)))\n\u001b[0;32m     15\u001b[0m results \u001b[38;5;241m=\u001b[39m anal\u001b[38;5;241m.\u001b[39mrun()\n\u001b[1;32m---> 17\u001b[0m \u001b[38;5;28mprint\u001b[39m(\u001b[38;5;124mf\u001b[39m\u001b[38;5;124m\"\u001b[39m\u001b[38;5;132;01m{\u001b[39;00mresults[\u001b[38;5;124m'\u001b[39m\u001b[38;5;124mdf\u001b[39m\u001b[38;5;124m'\u001b[39m]\u001b[38;5;132;01m:\u001b[39;00m\u001b[38;5;124m.3f\u001b[39m\u001b[38;5;132;01m}\u001b[39;00m\u001b[38;5;124m\"\u001b[39m)\n",
      "\u001b[1;31mTypeError\u001b[0m: unsupported format string passed to DataFrame.__format__"
     ]
    }
   ],
   "source": [
    "# Basic Optimization Test\n",
    "anal = fn.AnalysisModule()\n",
    "\n",
    "anal.add(fn.Define('a', 1))\n",
    "anal.add(fn.Define('b', 100))\n",
    "anal.add(fn.Define('x', 0))\n",
    "anal.add(fn.Define('y', 0))\n",
    "\n",
    "anal.add(fn.Fork('a', value_sets=(0, 1, 2)))\n",
    "anal.add(fn.Fork('b', value_sets=(0, 100, 200)))\n",
    "# anal.add(fn.Fork('b', value_sets=(0, 100, 200), condition=lambda a: a==1))\n",
    "\n",
    "anal.add(fn.Optimize(func=rosenbrock, obj_param_id='rosen', opt_param_ids=('x', 'y')))\n",
    "\n",
    "results = anal.run()\n",
    "\n",
    "print(f\"{results['df']:.3f}\")"
   ]
  },
  {
   "cell_type": "code",
   "execution_count": 13,
   "metadata": {},
   "outputs": [
    {
     "ename": "TypeError",
     "evalue": "Optimize.__init__() got an unexpected keyword argument 'optimizer'",
     "output_type": "error",
     "traceback": [
      "\u001b[1;31m---------------------------------------------------------------------------\u001b[0m",
      "\u001b[1;31mTypeError\u001b[0m                                 Traceback (most recent call last)",
      "Cell \u001b[1;32mIn[13], line 13\u001b[0m\n\u001b[0;32m      9\u001b[0m anal\u001b[38;5;241m.\u001b[39madd(fn\u001b[38;5;241m.\u001b[39mDefine(\u001b[38;5;124m'\u001b[39m\u001b[38;5;124my\u001b[39m\u001b[38;5;124m'\u001b[39m, \u001b[38;5;241m0\u001b[39m))\n\u001b[0;32m     11\u001b[0m anal\u001b[38;5;241m.\u001b[39madd(fn\u001b[38;5;241m.\u001b[39mFork(\u001b[38;5;124m'\u001b[39m\u001b[38;5;124ma\u001b[39m\u001b[38;5;124m'\u001b[39m, value_sets\u001b[38;5;241m=\u001b[39m(\u001b[38;5;241m-\u001b[39m\u001b[38;5;241m1\u001b[39m, \u001b[38;5;241m0\u001b[39m, \u001b[38;5;241m1\u001b[39m, \u001b[38;5;241m2\u001b[39m)))\n\u001b[1;32m---> 13\u001b[0m anal\u001b[38;5;241m.\u001b[39madd(fn\u001b[38;5;241m.\u001b[39mOptimize(optimizer\u001b[38;5;241m=\u001b[39mscipy\u001b[38;5;241m.\u001b[39moptimize\u001b[38;5;241m.\u001b[39mminimize, func\u001b[38;5;241m=\u001b[39mrosenbrock, obj_param_id\u001b[38;5;241m=\u001b[39m\u001b[38;5;124m'\u001b[39m\u001b[38;5;124mrosen\u001b[39m\u001b[38;5;124m'\u001b[39m, opt_param_ids\u001b[38;5;241m=\u001b[39m(\u001b[38;5;124m'\u001b[39m\u001b[38;5;124mx\u001b[39m\u001b[38;5;124m'\u001b[39m, \u001b[38;5;124m'\u001b[39m\u001b[38;5;124my\u001b[39m\u001b[38;5;124m'\u001b[39m)))\n\u001b[0;32m     15\u001b[0m results \u001b[38;5;241m=\u001b[39m anal\u001b[38;5;241m.\u001b[39mrun()\n\u001b[0;32m     17\u001b[0m results[\u001b[38;5;124m'\u001b[39m\u001b[38;5;124mdf\u001b[39m\u001b[38;5;124m'\u001b[39m]\n",
      "\u001b[1;31mTypeError\u001b[0m: Optimize.__init__() got an unexpected keyword argument 'optimizer'"
     ]
    }
   ],
   "source": [
    "# Custom Optimizer Function\n",
    "import scipy\n",
    "\n",
    "anal = fn.AnalysisModule()\n",
    "\n",
    "anal.add(fn.Define('a', 1))\n",
    "anal.add(fn.Define('b', 100))\n",
    "anal.add(fn.Define('x', 0))\n",
    "anal.add(fn.Define('y', 0))\n",
    "\n",
    "anal.add(fn.Fork('a', value_sets=(-1, 0, 1, 2)))\n",
    "\n",
    "anal.add(fn.Optimize(obj_func=rosenbrock, obj_param_id='rosen', opt_param_ids=('x', 'y'), optimizer=scipy.optimize.minimize, optimizer_args=, optimizer_output=))\n",
    "anal.add(fn.Optimize(\n",
    "    optimizer_snippet = lambda paramset:(\n",
    "        optimizer setup using paramset\n",
    "    )\n",
    "))\n",
    "\n",
    "results = anal.run()\n",
    "\n",
    "results['df']\n",
    "\n",
    "\n",
    "## Version 2 ----------------------------------------------------------\n",
    "# Create new analysis\n",
    "anal = fn.AnalysisModule()\n",
    "\n",
    "# Define analysis sequence\n",
    "anal.add.fork('a', value_sets=(1, 2)) # Fork analysis, create a branch for each value of 'a': 0, 1, 2\n",
    "anal.add.fork('b', value_sets=(0, 100, 200)) # Fork analysis, create a branch for each value of 'b': 0, 100, 200\n",
    "anal.add.define('x', 0)\n",
    "anal.add.define('y', 0)\n",
    "\n",
    "anal.add.fork.copy(num_copies=100)\n",
    "\n",
    "anal.add.optimize(func=rosenbrock, obj_param_id='rosen', opt_param_ids=('x', 'y'))\n",
    "anal.add.optimize.dict_return(func=rosenbrock, obj_param_id='rosen', opt_param_ids=('x', 'y'), output_param_ids=('rosen2', 'rosen3'))\n",
    "anal.add.optimize.custom(optimizer=scipy.optimize.minimize, x0_arg='x0', optimizer_args=dict(\n",
    "    func=rosenbrock, \n",
    ")\n",
    "(obj_func=rosenbrock, obj_param_id='rosen', opt_param_ids=('x', 'y'), optimizer=, , optimizer_output=)\n",
    "\n",
    "anal.add.execute(output_param_id='expensive_param', func=expensive_func)\n",
    "anal.add.execute.dict_return(func=expensive_func)\n",
    "anal.add.execute.tuple_return(output_param_ids=('expensive_param', 'param2'), func=expensive_func)\n",
    "\n",
    "# Run the analysis sequence\n",
    "results = anal.run()\n",
    "\n"
   ]
  },
  {
   "cell_type": "code",
   "execution_count": null,
   "metadata": {},
   "outputs": [],
   "source": [
    "\n",
    "\n",
    "# optimizer mapping tool only\n",
    "\n",
    "myfunc = lambda a, b, c, d: a+b+c+d\n",
    "myfunc_kwargs = dict(a=1, b=2, c=3, d=4)\n",
    "\n",
    "# wrapper function\n",
    "myfunc_opt, myfunc_x0 = fn.optimize.kwarg_mapper(myfunc, def_kwargs=myfunc_kwargs, opt_vars=('a', 'b'))\n",
    "\n",
    "# or use a decorator\n",
    "@optimizer_ready(def_kwargs=myfunc_kwargs, opt_vars=('a', 'b'))\n",
    "def myfunc_opt(a, b, c, d):\n",
    "    return myfunc(a, b, c, d)\n",
    "\n",
    "# or use a dynamic decorator\n",
    "myfunc_opt = optimizer_ready(def_kwargs=myfunc_kwargs, opt_vars=('a', 'b'))(myfunc)\n",
    "\n",
    "\n",
    "results = scipy.optimize.minimize(func=myfunc_opt, x0=myfunc_x0)\n",
    "\n",
    "\n",
    "# what we are up against (custom mapping)\n",
    "myfunc = lambda a, b, c, d: a+b+c+d\n",
    "\n",
    "def myfunc_opt(x):\n",
    "\ta = x[0]\n",
    "\tb = x[1]\n",
    "\tc = 3\n",
    "\td = 4\n",
    "\treturn myfunc(a, b, c, d)\n",
    "\n",
    "myfunc_x0 = [1, 2]\n",
    "\n",
    "results = scipy.optimize.minimize(func=myfunc_opt, x0=myfunc_x0)\n",
    "\n"
   ]
  },
  {
   "cell_type": "code",
   "execution_count": 20,
   "metadata": {},
   "outputs": [
    {
     "name": "stdout",
     "output_type": "stream",
     "text": [
      "done with analysis!\n",
      "    runtime  a    b         x         y         rosen  \\\n",
      "0  0.004001  1    0  1.000000  0.000000  4.930381e-32   \n",
      "1  0.009702  1  100  0.999763  0.999523  5.772481e-08   \n",
      "2  0.017009  1  200  0.999939  0.999873  8.146869e-09   \n",
      "3  0.000995  2    0  2.000000  0.000000  0.000000e+00   \n",
      "4  0.016001  2  100  1.999731  3.998866  4.067518e-07   \n",
      "5  0.020995  2  200  1.999554  3.998225  2.136755e-07   \n",
      "\n",
      "                    datetime  expensive_param  \n",
      "0 2025-01-08 00:38:07.088954              NaN  \n",
      "1 2025-01-08 00:38:07.099666         1.999286  \n",
      "2 2025-01-08 00:38:07.118677         1.999811  \n",
      "3 2025-01-08 00:38:07.123193              NaN  \n",
      "4 2025-01-08 00:38:07.141195         5.998596  \n",
      "5 2025-01-08 00:38:07.166191         5.997779  \n"
     ]
    }
   ],
   "source": [
    "# Create new analysis\n",
    "anal = fn.AnalysisModule()\n",
    "\n",
    "# Define analysis sequence\n",
    "anal.add(fn.Fork('a', value_sets=(1, 2)))\n",
    "anal.add(fn.Fork('b', value_sets=(0, 100, 200)))\n",
    "anal.add(fn.Define('x', 0))\n",
    "anal.add(fn.Define('y', 0))\n",
    "anal.add(fn.Optimize(func=rosenbrock, obj_param_id='rosen', opt_param_ids=('x', 'y')))\n",
    "\n",
    "# Only evaluate 'expensive_func' if the optimized 'x' is above 0.5\n",
    "expensive_func = lambda x, y: x+y\n",
    "anal.add(fn.Execute(func=expensive_func, output_param_ids='expensive_param', condition=lambda y: y>0.5))\n",
    "\n",
    "results = anal.run()\n",
    "print(results['df'])"
   ]
  },
  {
   "cell_type": "code",
   "execution_count": 7,
   "metadata": {},
   "outputs": [
    {
     "ename": "TypeError",
     "evalue": "Fork.__init__() got an unexpected keyword argument 'values'",
     "output_type": "error",
     "traceback": [
      "\u001b[1;31m---------------------------------------------------------------------------\u001b[0m",
      "\u001b[1;31mTypeError\u001b[0m                                 Traceback (most recent call last)",
      "Cell \u001b[1;32mIn[7], line 7\u001b[0m\n\u001b[0;32m      4\u001b[0m anal\u001b[38;5;241m.\u001b[39madd(fn\u001b[38;5;241m.\u001b[39mDefine(\u001b[38;5;124m'\u001b[39m\u001b[38;5;124mx\u001b[39m\u001b[38;5;124m'\u001b[39m, \u001b[38;5;241m0\u001b[39m))\n\u001b[0;32m      5\u001b[0m anal\u001b[38;5;241m.\u001b[39madd(fn\u001b[38;5;241m.\u001b[39mDefine(\u001b[38;5;124m'\u001b[39m\u001b[38;5;124my\u001b[39m\u001b[38;5;124m'\u001b[39m, \u001b[38;5;241m0\u001b[39m))\n\u001b[1;32m----> 7\u001b[0m anal\u001b[38;5;241m.\u001b[39madd(fn\u001b[38;5;241m.\u001b[39mFork(\u001b[38;5;124m'\u001b[39m\u001b[38;5;124ma\u001b[39m\u001b[38;5;124m'\u001b[39m, values\u001b[38;5;241m=\u001b[39m(\u001b[38;5;241m-\u001b[39m\u001b[38;5;241m1\u001b[39m, \u001b[38;5;241m0\u001b[39m, \u001b[38;5;241m1\u001b[39m, \u001b[38;5;241m2\u001b[39m)))\n\u001b[0;32m      9\u001b[0m anal\u001b[38;5;241m.\u001b[39madd(fn\u001b[38;5;241m.\u001b[39mDefine(\u001b[38;5;124m'\u001b[39m\u001b[38;5;124mrosen\u001b[39m\u001b[38;5;124m'\u001b[39m, attached_func\u001b[38;5;241m=\u001b[39mrosenbrock, function_output_format\u001b[38;5;241m=\u001b[39m(\u001b[38;5;124m'\u001b[39m\u001b[38;5;124mdirect\u001b[39m\u001b[38;5;124m'\u001b[39m, \u001b[38;5;124m'\u001b[39m\u001b[38;5;124mdict\u001b[39m\u001b[38;5;124m'\u001b[39m), update_other_vars_when_run\u001b[38;5;241m=\u001b[39m\u001b[38;5;28;01mTrue\u001b[39;00m))\n\u001b[0;32m     11\u001b[0m \u001b[38;5;66;03m# Auto param mapping\u001b[39;00m\n",
      "\u001b[1;31mTypeError\u001b[0m: Fork.__init__() got an unexpected keyword argument 'values'"
     ]
    }
   ],
   "source": [
    "# Optimization Test with attached objective function\n",
    "anal.add(fn.Define('a', 1))\n",
    "anal.add(fn.Define('b', 100))\n",
    "anal.add(fn.Define('x', 0))\n",
    "anal.add(fn.Define('y', 0))\n",
    "\n",
    "anal.add(fn.Fork('a', values=(-1, 0, 1, 2)))\n",
    "\n",
    "anal.add(fn.Define('rosen', attached_func=rosenbrock, function_output_format=('direct', 'dict'), update_other_vars_when_run=True))\n",
    "\n",
    "# Auto param mapping\n",
    "anal.add(fn.Optimize('rosen'))\n",
    "\n",
    "results = anal.run()\n",
    "\n",
    "results['df']"
   ]
  },
  {
   "cell_type": "code",
   "execution_count": null,
   "metadata": {},
   "outputs": [],
   "source": [
    "# Parameter Reference\n",
    "anal.add(fn.Define('a', 1))\n",
    "anal.add(fn.Define('b', 100))\n",
    "anal.add(fn.Define('x', 0))\n",
    "anal.add(fn.Define('y', 0))\n",
    "\n",
    "anal.add(fn.Fork('a', values=(-1, 0, 1, 2)))\n",
    "\n",
    "anal.add(fn.Execute(func=rosenbrock, output_param_ids='rosen')) # Direct output mode\n",
    "\n",
    "anal.add(fn.Define('rosen', attached_func=rosenbrock, function_output_format=('direct', 'dict'), update_other_vars_when_run=True))\n",
    "\n",
    "anal.add(fn.Fork('opt_method', values=('SLSQP', 'Nelder-Mead')))\n",
    "\n",
    "anal.add(fn.Function(id='rosen', func=rosenbrock, output_param_ids='rosen_tuple'))\n",
    "\n",
    "\n",
    "anal.add(fn.Optimize(objective=rosenbrock, obj_param_id='rosen', opt_param_ids=('x', 'y'), method=fn.Reference('opt_method')))\n",
    "\n"
   ]
  },
  {
   "cell_type": "code",
   "execution_count": null,
   "metadata": {},
   "outputs": [],
   "source": [
    "# Syntax Options\n",
    "import functioneer as fn\n",
    "\n",
    "## Version 1: Add steps as Objects ---------------------------------------------------------------------------------------\n",
    "# Create new analysis\n",
    "anal = fn.AnalysisModule()\n",
    "\n",
    "# Define analysis sequence\n",
    "anal.add(fn.Fork('a', value_sets=(1, 2))) # Fork analysis, create a branch for each value of 'a': 0, 1, 2\n",
    "anal.add(fn.Fork('b', value_sets=(0, 100, 200))) # Fork analysis, create a branch for each value of 'b': 0, 100, 200\n",
    "anal.add(fn.Define('x', 0))\n",
    "anal.add(fn.Define('y', 0))\n",
    "\n",
    "anal.add(fn.Optimize(func=rosenbrock, obj_param_id='rosen', opt_param_ids=('x', 'y')))\n",
    "\n",
    "# Run the analysis sequence\n",
    "results = anal.run()\n",
    "print(results['df'].drop(columns='datetime'))\n",
    "\n",
    "\n",
    "## Version 2: Add steps through the 'add' namespace ---------------------------------------------------------------------------------------\n",
    "# Create new analysis\n",
    "anal = fn.AnalysisModule()\n",
    "\n",
    "# Define analysis sequence\n",
    "anal.add.fork('a', value_sets=(1, 2)) # Fork analysis, create a branch for each value of 'a': 0, 1, 2\n",
    "anal.add.fork('b', value_sets=(0, 100, 200)) # Fork analysis, create a branch for each value of 'b': 0, 100, 200\n",
    "anal.add.define('x', 0)\n",
    "anal.add.define('y', 0)\n",
    "\n",
    "anal.add.optimize(func=rosenbrock, obj_param_id='rosen', opt_param_ids=('x', 'y'))\n",
    "\n",
    "# Run the analysis sequence\n",
    "results = anal.run()\n",
    "\n",
    "\n",
    "## Version 3: Add steps directly to Analysis ---------------------------------------------------------------------------------------\n",
    "# Create new analysis\n",
    "anal = fn.AnalysisModule()\n",
    "\n",
    "# Define analysis sequence\n",
    "anal.fork('a', value_sets=(1, 2)) # Fork analysis, create a branch for each value of 'a': 0, 1, 2\n",
    "anal.fork('b', value_sets=(0, 100, 200)) # Fork analysis, create a branch for each value of 'b': 0, 100, 200\n",
    "anal.define('x', 0)\n",
    "anal.define('y', 0)\n",
    "\n",
    "anal.optimize(func=rosenbrock, obj_param_id='rosen', opt_param_ids=('x', 'y'))\n",
    "\n",
    "# Run the analysis sequence\n",
    "results = anal.run()\n",
    "\n",
    "\n",
    "## Version 4: Declaritive list of Objects ---------------------------------------------------------------------------------------\n",
    "# Create new analysis\n",
    "anal = fn.AnalysisModule()\n",
    "\n",
    "# Define the analysis as a configuration\n",
    "anal = fn.AnalysisModule([\n",
    "    fn.Fork('a', value_sets=(1, 2)),\n",
    "    fn.Fork('b', value_sets=(0, 100, 200)),\n",
    "    fn.Define('x', 0),\n",
    "    fn.Define('y', 0),\n",
    "    fn.Execute(method='default', func=rosenbrock),\n",
    "    fn.Optimize(func=rosenbrock, obj_param_id='rosen', opt_param_ids=('x', 'y')),\n",
    "])\n",
    "\n",
    "# Run the analysis\n",
    "results = anal.run()\n"
   ]
  },
  {
   "cell_type": "code",
   "execution_count": null,
   "metadata": {},
   "outputs": [],
   "source": [
    "# pytorch example\n",
    "\n",
    "# RNN Model\n",
    "class MadagascarNN(nn.Module):\n",
    "    def __init__(self, input_dim, hidden_dims, output_dim):\n",
    "        \"\"\"\n",
    "        Initializes the MadagascarNN class (Ya Bassic Feed Forward NN) \n",
    "        \n",
    "        Parameters:\n",
    "        - input_dim (int): Dimensionality of the input features.\n",
    "        - hidden_dims (list): List of integers, where each integer denotes the number of neurons\n",
    "                              in a hidden layer. The length of the list determines the number of\n",
    "                              hidden layers.\n",
    "        - output_dim (int): Dimensionality of the output.\n",
    "        \"\"\"\n",
    "        super(MadagascarNN, self).__init__()\n",
    "\n",
    "        # Creating a list of all layers\n",
    "        self.layers = nn.ModuleList()\n",
    "\n",
    "        # Input to first hidden layer\n",
    "        self.layers.append(nn.Linear(input_dim, hidden_dims[0]))\n",
    "        self.layers.append(nn.ReLU())\n"
   ]
  },
  {
   "cell_type": "code",
   "execution_count": 2,
   "metadata": {},
   "outputs": [],
   "source": [
    "from typing import Literal\n",
    "\n",
    "def yo(x: Literal['up', 'down'], y: float):\n",
    "    if x == 'up':\n",
    "        return y\n",
    "    return -y\n",
    "\n"
   ]
  },
  {
   "cell_type": "code",
   "execution_count": 3,
   "metadata": {},
   "outputs": [
    {
     "data": {
      "text/plain": [
       "-4"
      ]
     },
     "execution_count": 3,
     "metadata": {},
     "output_type": "execute_result"
    }
   ],
   "source": [
    "yo(x='down', y=4)"
   ]
  }
 ],
 "metadata": {
  "kernelspec": {
   "display_name": "base",
   "language": "python",
   "name": "python3"
  },
  "language_info": {
   "codemirror_mode": {
    "name": "ipython",
    "version": 3
   },
   "file_extension": ".py",
   "mimetype": "text/x-python",
   "name": "python",
   "nbconvert_exporter": "python",
   "pygments_lexer": "ipython3",
   "version": "3.11.5"
  }
 },
 "nbformat": 4,
 "nbformat_minor": 2
}
